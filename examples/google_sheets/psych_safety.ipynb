{
 "cells": [
  {
   "cell_type": "markdown",
   "metadata": {},
   "source": [
    "# Team health survey\n",
    "\n",
    "## Leverage the edmondson library"
   ]
  },
  {
   "cell_type": "code",
   "execution_count": 1,
   "metadata": {},
   "outputs": [
    {
     "data": {
      "text/plain": [
       ":OK"
      ]
     },
     "execution_count": 1,
     "metadata": {},
     "output_type": "execute_result"
    }
   ],
   "source": [
    "(ns google-sheets-example\n",
    "  (:require [edmondson.google-api :as api]\n",
    "            [edmondson.survey-analysis :as analysis]\n",
    "            [edmondson.survey-model :as model]\n",
    "            [edmondson.config :as cfg]\n",
    "            [edmondson.reports :as reports]\n",
    "            [clojure.string :as str]))\n",
    "\n",
    ":OK"
   ]
  },
  {
   "cell_type": "markdown",
   "metadata": {},
   "source": [
    "## Defining the Likert scale for scoring questions"
   ]
  },
  {
   "cell_type": "code",
   "execution_count": 2,
   "metadata": {},
   "outputs": [
    {
     "data": {
      "text/plain": [
       ":OK"
      ]
     },
     "execution_count": 2,
     "metadata": {},
     "output_type": "execute_result"
    }
   ],
   "source": [
    "(def agree-disagree-7-pt-params ;; default scoring for 7pt Likert scale\n",
    "  {\"Strongly agree\" 7\n",
    "   \"Agree\" 6\n",
    "   \"Somewhat agree\" 5\n",
    "   \"Neutral\" 4\n",
    "   \"Somewhat disagree\" 3\n",
    "   \"Disagree\" 2\n",
    "   \"Strongly Disagree\" 1})\n",
    "\n",
    "(defn default-scale \"identity scoring transformation\" [a _] a)\n",
    "\n",
    "(defn negative-scale\n",
    "  \"Scoring transform for reverse-scored likert questions\"\n",
    "  [a likert-scale]\n",
    "  (- (inc (count likert-scale)) a))\n",
    "\n",
    ":OK"
   ]
  },
  {
   "cell_type": "markdown",
   "metadata": {},
   "source": [
    "## Survey model\n",
    "This section defines the survey question and how we intend to score them.\n",
    "\n",
    "For psychological safety and generative culture, we use a 7-pt Likert scale with some questions reverse scored."
   ]
  },
  {
   "cell_type": "code",
   "execution_count": 3,
   "metadata": {},
   "outputs": [
    {
     "data": {
      "text/plain": [
       ":OK"
      ]
     },
     "execution_count": 3,
     "metadata": {},
     "output_type": "execute_result"
    }
   ],
   "source": [
    "(def example-model\n",
    "  {\n",
    "   \"Psychological safety\"\n",
    "   {:scoring agree-disagree-7-pt-params ;; default scoring with 7p likert scale\n",
    "    :scale default-scale ;; default scale is normal scale\n",
    "    :questions [[\"I worry that mistakes will be held against me.\"\n",
    "                 ;; since Strongly agree is quite bad here.\n",
    "                 ;; this questions is scored in reverse, so we override default scale:\n",
    "                 {:scale negative-scale}]\n",
    "                \"I am able to bring up problems and tough issues.\" ;; defaults\n",
    "                [\"People in the team sometimes reject others for being different.\"\n",
    "                 {:scale negative-scale}]\n",
    "                \"It is safe to take a risk within the team.\"\n",
    "                [\"I find it difficult to ask other members of the team for help.\"\n",
    "                 {:scale negative-scale}]\n",
    "                \"No one in the team would deliberately act in a way that undermines my efforts.\"\n",
    "                \"My unique skills and talents are valued and utilized in this team.\"]}\n",
    "\n",
    "   \"Generative culture\"\n",
    "   {:scoring agree-disagree-7-pt-params\n",
    "    :scale default-scale\n",
    "    :questions [\"No-one is punished for delivering news of failure or other bad news.\"\n",
    "                \"Responsibilities are shared (you hear mostly \\\"this is our responsibility\\\" vs \\\"this is not my responsibility\\\")\"\n",
    "                \"Cross functional and cross-team collaboration is encouraged and rewarded.\"\n",
    "                \"People on our team welcome new ideas, regardless of source and seniority.\"\n",
    "                \"Failure causes inquiry (failures are investigated, not ignored or hidden)\"\n",
    "                \"Failures are treated primarily as opportunities to improve the system, processes or team.\"\n",
    "                \"New information is actively sought out.\"]}\n",
    "\n",
    "   \"Psychological safety domains\"\n",
    "   {:groups [\"For you personally, choose the three topics which you find the most uncomfortable, or where you'd least want to bring up your concerns or have a conversation about.\"]}\n",
    "   ;; This allows us to group responses based on how people check\n",
    "   ;; boxes in this question. Also makes it easier to count which\n",
    "   ;; boxes get the most checks.\n",
    "\n",
    "   \"Open-ended feedback\"\n",
    "   ;; These are not analyzed quantitatively\n",
    "   {:verbatims [\"If you could change one team process, or one thing about how the team works, what would you change and why?\"\n",
    "                \"What is something the team does really well? Something that would make you very disappointed if the team stopped doing or something that makes you proud to be part of the team.\"]}\n",
    "\n",
    "   })\n",
    "\n",
    "(def model-index\n",
    "  (model/index-questions example-model))\n",
    "\n",
    ":OK"
   ]
  },
  {
   "cell_type": "markdown",
   "metadata": {},
   "source": [
    "## Fetch and score the responses\n",
    "This will take a bit of time to evaluate since it calls the Google API.\n",
    "\n",
    "Note that the kernel will store a token so you want to delete the kernel after your session."
   ]
  },
  {
   "cell_type": "code",
   "execution_count": 4,
   "metadata": {},
   "outputs": [
    {
     "data": {
      "text/plain": [
       ":OK"
      ]
     },
     "execution_count": 4,
     "metadata": {},
     "output_type": "execute_result"
    }
   ],
   "source": [
    ";; Example of usage.\n",
    ";; Given https://docs.google.com/spreadsheets/d/1QkBeMNGfsHHga85c-UsLAwnpmz7QyhvFK_n31CzDe7c/edit?usp=sharing\n",
    ";; Define:\n",
    "\n",
    "(def spreadsheetId \"1QkBeMNGfsHHga85c-UsLAwnpmz7QyhvFK_n31CzDe7c\")\n",
    "(def tab-name \"Form Responses 1\")\n",
    "(def spreadsheet-range (str tab-name \"!B:R\")) ;; this is where the answers are\n",
    "\n",
    ":OK"
   ]
  },
  {
   "cell_type": "markdown",
   "metadata": {},
   "source": [
    "## Note: change this path to be the path to your credentials.json and token directory"
   ]
  },
  {
   "cell_type": "code",
   "execution_count": 5,
   "metadata": {},
   "outputs": [],
   "source": [
    "(binding [cfg/*credentials-json-path-override* \"/Users/krukow/code/github/edmondson/credentials.json\"]\n",
    "    (def survey-results (api/eval-range {:token-directory \"/Users/krukow/code/github/edmondson/tokens\" }\n",
    "                                        spreadsheetId spreadsheet-range)))\n",
    "\n",
    "(def survey-questions (first survey-results)) ;; first row of sheet are the questions\n",
    "(def survey-answers (rest survey-results)) ;; first row of sheet are the questions\n",
    "\n",
    "\n",
    "(def normalized-responses\n",
    "  (api/normalize-responses survey-questions survey-answers))\n",
    "\n",
    "(def scored-responses (analysis/score-responses\n",
    "                       model-index\n",
    "                       normalized-responses))\n",
    "\n",
    "(def aggregate-results\n",
    "  (analysis/aggregate-scores example-model scored-responses))\n",
    ";"
   ]
  },
  {
   "cell_type": "markdown",
   "metadata": {},
   "source": [
    "## Time to review the results\n",
    "Results of 40 and above is considered very good for psychological safety."
   ]
  },
  {
   "cell_type": "code",
   "execution_count": 6,
   "metadata": {},
   "outputs": [
    {
     "data": {
      "image/png": "[encoded data removed]"
     },
     "execution_count": 6,
     "metadata": {},
     "output_type": "execute_result"
    }
   ],
   "source": [
    "(use '(incanter core stats charts io))\n",
    "(let [res (select-keys aggregate-results [\"Psychological safety\", \"Generative culture\"])]\n",
    "    (-> (bar-chart (keys res)\n",
    "                   (map #(get-in % [:construct-stats :score-total]) (vals res))\n",
    "                  :x-label \"Construct\" :y-label \"y\")\n",
    "        (.createBufferedImage 1200 400)))\n"
   ]
  },
  {
   "cell_type": "code",
   "execution_count": 7,
   "metadata": {},
   "outputs": [
    {
     "data": {
      "text/plain": [
       "nil"
      ]
     },
     "execution_count": 7,
     "metadata": {},
     "output_type": "execute_result"
    }
   ],
   "source": [
    "(comment\n",
    "  (->> (drop 1 (map :groups scored-responses))\n",
    "       (map #(get % \"For you personally, choose the three topics which you find the most uncomfortable, or where you'd least want to bring up your concerns or have a conversation about.\"))\n",
    "       (map #(str/split % #\",\"))\n",
    "       (map frequencies)\n",
    "       (apply (partial merge-with +))\n",
    "       (sort-by second)\n",
    "       reverse)\n",
    "\n",
    "  )\n",
    "\n",
    " ;(clojure.pprint/pprint scored-survey-results\n",
    "\n",
    ";; (def scored-responses-managers (group-by (comp :DEMO_MANAGER :groups)\n",
    ";;                                          scored-responses))\n",
    "\n",
    ";; (def grouped-scored-responses (group-by (comp :groups) scored-responses))\n",
    "\n",
    "\n",
    ";; (comment (clojure.pprint/pprint (get (analysis/aggregate-scores (get scored-responses-managers \"No\"))\n",
    ";;                                      \"Psychological Safety\")))\n",
    "\n",
    "\n",
    ";; (clojure.pprint/pprint scored-survey-results)"
   ]
  }
 ],
 "metadata": {
  "kernelspec": {
   "display_name": "Clojure (edmondson)",
   "language": "clojure",
   "name": "edmondson"
  },
  "language_info": {
   "file_extension": ".clj",
   "mimetype": "text/x-clojure",
   "name": "clojure",
   "version": "1.10.1"
  }
 },
 "nbformat": 4,
 "nbformat_minor": 4
}
